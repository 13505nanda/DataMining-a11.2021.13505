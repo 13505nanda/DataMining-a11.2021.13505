{
  "nbformat": 4,
  "nbformat_minor": 0,
  "metadata": {
    "colab": {
      "provenance": [],
      "include_colab_link": true
    },
    "kernelspec": {
      "name": "python3",
      "display_name": "Python 3"
    }
  },
  "cells": [
    {
      "cell_type": "markdown",
      "metadata": {
        "id": "view-in-github",
        "colab_type": "text"
      },
      "source": [
        "<a href=\"https://colab.research.google.com/github/13505nanda/DataMining-a11.2021.13505/blob/main/Preprocessing_Data_Nanda_Prayogi_a11.2021.13505/Preprocessing.ipynb\" target=\"_parent\"><img src=\"https://colab.research.google.com/assets/colab-badge.svg\" alt=\"Open In Colab\"/></a>"
      ]
    },
    {
      "cell_type": "markdown",
      "source": [
        "Nama        : Nanda Prayogi\n",
        "Nim         : A11.2021.13505\n",
        "Mata Kuliah : Data Mining\n",
        "Kelompok    : A11.4618"
      ],
      "metadata": {
        "id": "K4QaYqxgb4Fn"
      }
    },
    {
      "cell_type": "code",
      "metadata": {
        "id": "2DKDpXsb8Tym"
      },
      "source": [
        "import numpy as np\n",
        "import matplotlib.pyplot as plt\n",
        "import pandas as pd"
      ],
      "execution_count": null,
      "outputs": []
    },
    {
      "cell_type": "markdown",
      "source": [
        "Import Library:\n",
        "- numpy untuk operasi numerik\n",
        "- matplotlib.pyplot untuk visualisasi data\n",
        "- pandas untuk membaca dan memanipulasi dataset"
      ],
      "metadata": {
        "id": "e5LchEos3-s3"
      }
    },
    {
      "cell_type": "code",
      "source": [
        "from sklearn.pipeline import Pipeline\n",
        "from sklearn.compose import ColumnTransformer\n",
        "from sklearn.impute import SimpleImputer\n",
        "from sklearn.preprocessing import StandardScaler, OneHotEncoder, LabelEncoder\n",
        "from sklearn.model_selection import train_test_split"
      ],
      "metadata": {
        "id": "mB2GKVA-uok_"
      },
      "execution_count": null,
      "outputs": []
    },
    {
      "cell_type": "markdown",
      "source": [
        "Import Library dari sklearn:\n",
        "- Pipeline dari sklearn.pipeline untuk membangun pipeline preprocessing\n",
        "- ColumnTransformer dari sklearn.compose untuk menggabungkan beberapa transformer\n",
        "- SimpleImputer dari sklearn.impute untuk mengatasi missing values\n",
        "- StandardScaler dari sklearn.preprocessing untuk melakukan feature scaling\n",
        "- OneHotEncoder untuk melakukan one-hot encoding\n",
        "- LabelEncoder untuk mengatasi label kategori pada variabel target\n",
        "- train_test_split dari sklearn.model_selection untuk memisahkan data menjadi train set dan test set"
      ],
      "metadata": {
        "id": "FB2qlLv94qwd"
      }
    },
    {
      "cell_type": "code",
      "metadata": {
        "id": "JPDFYyq7G_RF"
      },
      "source": [
        "dataset = pd.read_csv('DataCoba.csv')\n",
        "x = dataset.iloc[:, :-1].values\n",
        "y = dataset.iloc[:, -1].values"
      ],
      "execution_count": null,
      "outputs": []
    },
    {
      "cell_type": "markdown",
      "source": [
        "- pd.read_csv() untuk membaca dataset yang disimpan dalam file CSV dengan nama 'DataCoba.csv'\n",
        "- fungsi iloc untuk memisahkan fitur dari target\n",
        "- Fitur diambil dari semua kolom kecuali kolom terakhir menggunakan iloc[:, :-1], dan disimpan dalam variabel x sama halnya dengan variabel y"
      ],
      "metadata": {
        "id": "PMiD-giL6r7v"
      }
    },
    {
      "cell_type": "code",
      "source": [
        "print(x)"
      ],
      "metadata": {
        "colab": {
          "base_uri": "https://localhost:8080/"
        },
        "id": "uWdT9_yfunpw",
        "outputId": "816eafa9-b96f-48ca-ab3b-5c4100c482e1"
      },
      "execution_count": null,
      "outputs": [
        {
          "output_type": "stream",
          "name": "stdout",
          "text": [
            "[['Pati' 22.0 65000.0]\n",
            " ['Kudus' 34.0 nan]\n",
            " ['Jepara' 25.0 45000.0]\n",
            " ['Kudus' 45.0 56000.0]\n",
            " ['Jepara' 37.0 nan]\n",
            " ['Pati' 35.0 43000.0]\n",
            " ['Kudus' 34.0 43000.0]\n",
            " ['Pati' nan 65000.0]\n",
            " ['Jepara' 45.0 67000.0]\n",
            " ['Pati' 42.0 75000.0]]\n"
          ]
        }
      ]
    },
    {
      "cell_type": "code",
      "source": [
        "print(y)"
      ],
      "metadata": {
        "colab": {
          "base_uri": "https://localhost:8080/"
        },
        "id": "1RowD6VouxpY",
        "outputId": "b8ed8449-eeb1-46f5-b7f8-af0997a25d92"
      },
      "execution_count": null,
      "outputs": [
        {
          "output_type": "stream",
          "name": "stdout",
          "text": [
            "['Yes' 'No' 'Yes' 'Yes' 'No' 'No' 'Yes' 'No' 'Yes' 'Yes']\n"
          ]
        }
      ]
    },
    {
      "cell_type": "code",
      "source": [
        "numeric_transformer = Pipeline(steps=[\n",
        "    ('imputer', SimpleImputer(strategy='mean')),\n",
        "    ('scaler', StandardScaler())\n",
        "])"
      ],
      "metadata": {
        "id": "hrT5pnIKu0VM"
      },
      "execution_count": null,
      "outputs": []
    },
    {
      "cell_type": "markdown",
      "source": [
        "- Program menggunakan Pipeline untuk menggabungkan beberapa langkah preprocessing menjadi satu proses yang lebih efisien\n",
        "- imputasi missing values dengan SimpleImputer menggunakan strategi mean, dan feature scaling dengan StandardScaler\n",
        "- SimpleImputer digunakan untuk mengisi missing values pada fitur numerik dengan strategi mean. Dalam hal ini, missing values akan diisi dengan nilai rata-rata dari fitur tersebut\n",
        "- StandardScaler digunakan untuk melakukan feature scaling pada fitur numerik setelah mengatasi missing values"
      ],
      "metadata": {
        "id": "cg3MCrlA7J48"
      }
    },
    {
      "cell_type": "code",
      "source": [
        "categorical_transformer = Pipeline(steps=[\n",
        "    ('imputer', SimpleImputer(strategy='most_frequent')),\n",
        "    ('onehot', OneHotEncoder())\n",
        "])"
      ],
      "metadata": {
        "id": "hJnY5Kz6u5CQ"
      },
      "execution_count": null,
      "outputs": []
    },
    {
      "cell_type": "markdown",
      "source": [
        "- imputasi missing values dengan SimpleImputer menggunakan strategi most_frequent, dan one-hot encoding dengan OneHotEncoder\n",
        "- SimpleImputer digunakan untuk mengisi missing values pada fitur kategori dengan strategi most_frequent\n",
        "- OneHotEncoder digunakan untuk melakukan one-hot encoding pada fitur kategori setelah mengatasi missing values"
      ],
      "metadata": {
        "id": "GvyVwqZD7KYm"
      }
    },
    {
      "cell_type": "code",
      "source": [
        "preprocessor = ColumnTransformer(\n",
        "    transformers=[\n",
        "        ('numeric', numeric_transformer, [1, 2]),\n",
        "        ('categorical', categorical_transformer, [0])\n",
        "    ])"
      ],
      "metadata": {
        "id": "GyR6ep02u7wk"
      },
      "execution_count": null,
      "outputs": []
    },
    {
      "cell_type": "markdown",
      "source": [
        "- ColumnTransformer untuk menggabungkan beberapa transformer yang berbeda untuk diterapkan pada kolom-kolom tertentu dalam dataset\n",
        "- numeric_transformer untuk fitur numerik dan categorical_transformer untuk fitur kategori\n",
        "- numeric_transformer, Transformer ini akan diterapkan pada kolom dengan indeks 1 dan 2 dalam dataset\n",
        "- categorical_transformer, Transformer ini akan diterapkan pada kolom dengan indeks 0 dalam dataset"
      ],
      "metadata": {
        "id": "IwBUXSxR7LMY"
      }
    },
    {
      "cell_type": "code",
      "source": [
        "x = preprocessor.fit_transform(x)"
      ],
      "metadata": {
        "id": "X3SUhD1NvCmZ"
      },
      "execution_count": null,
      "outputs": []
    },
    {
      "cell_type": "markdown",
      "source": [
        "- Program menggunakan metode fit_transform pada preprocessor untuk menerapkan langkah-langkah preprocessing yang telah ditentukan pada fitur-fitur dataset x. fit_transform akan mengimputasi missing values, melakukan feature scaling, dan melakukan one-hot encoding sesuai dengan konfigurasi yang telah dibuat dalam preprocessor\n",
        "- Hasil dari preprocessing akan disimpan dalam variabel x. Dataset x akan mengalami transformasi sesuai dengan langkah-langkah preprocessing yang telah ditentukan dalam preprocessor"
      ],
      "metadata": {
        "id": "JcgGXXHf8zQ3"
      }
    },
    {
      "cell_type": "code",
      "source": [
        "print(x)"
      ],
      "metadata": {
        "colab": {
          "base_uri": "https://localhost:8080/"
        },
        "id": "brjissjCvHau",
        "outputId": "e097422d-06c0-48f3-c728-cda4becddd4d"
      },
      "execution_count": null,
      "outputs": [
        {
          "output_type": "stream",
          "name": "stdout",
          "text": [
            "[[-1.86043794  0.7310555   0.          0.          1.        ]\n",
            " [-0.19988176  0.          0.          1.          0.        ]\n",
            " [-1.44529889 -1.18646713  1.          0.          0.        ]\n",
            " [ 1.32229473 -0.13182968  0.          1.          0.        ]\n",
            " [ 0.21525728  0.          1.          0.          0.        ]\n",
            " [-0.06150208 -1.37821939  0.          0.          1.        ]\n",
            " [-0.19988176 -1.37821939  0.          1.          0.        ]\n",
            " [ 0.          0.7310555   0.          0.          1.        ]\n",
            " [ 1.32229473  0.92280776  1.          0.          0.        ]\n",
            " [ 0.90715569  1.68981682  0.          0.          1.        ]]\n"
          ]
        }
      ]
    },
    {
      "cell_type": "code",
      "source": [
        "le = LabelEncoder()\n",
        "y = le.fit_transform(y)"
      ],
      "metadata": {
        "id": "gcNH9BiBvKuX"
      },
      "execution_count": null,
      "outputs": []
    },
    {
      "cell_type": "markdown",
      "source": [
        "- LabelEncoder untuk membangun objek le yang akan digunakan untuk melakukan label encoding\n",
        "- fit_transform pada le untuk melakukan label encoding pada variabel target y, Metode ini akan mengubah nilai-nilai kategori pada y menjadi representasi numerik\n",
        "- Hasil dari label encoding akan disimpan dalam variabel y. Variabel target y akan berisi representasi numerik dari nilai-nilai kategori asli yang terdapat dalam dataset"
      ],
      "metadata": {
        "id": "Ssd_gIHj9AUK"
      }
    },
    {
      "cell_type": "code",
      "source": [
        "print(y)"
      ],
      "metadata": {
        "colab": {
          "base_uri": "https://localhost:8080/"
        },
        "id": "gswYbPbIvNKT",
        "outputId": "0096d1a6-237c-4430-8488-d2d0392265a1"
      },
      "execution_count": null,
      "outputs": [
        {
          "output_type": "stream",
          "name": "stdout",
          "text": [
            "[1 0 1 1 0 0 1 0 1 1]\n"
          ]
        }
      ]
    },
    {
      "cell_type": "code",
      "source": [
        "x_train, x_test, y_train, y_test = train_test_split(x, y, test_size=0.2, random_state=1)"
      ],
      "metadata": {
        "id": "Vysj1iELvPhf"
      },
      "execution_count": null,
      "outputs": []
    },
    {
      "cell_type": "code",
      "source": [
        "print(x_train)"
      ],
      "metadata": {
        "colab": {
          "base_uri": "https://localhost:8080/"
        },
        "id": "cnolsNkFvSmz",
        "outputId": "fc73aa8a-99e7-4577-e989-1aee11121ce2"
      },
      "execution_count": null,
      "outputs": [
        {
          "output_type": "stream",
          "name": "stdout",
          "text": [
            "[[-0.19988176 -1.37821939  0.          1.          0.        ]\n",
            " [ 0.21525728  0.          1.          0.          0.        ]\n",
            " [-1.86043794  0.7310555   0.          0.          1.        ]\n",
            " [ 1.32229473 -0.13182968  0.          1.          0.        ]\n",
            " [-0.19988176  0.          0.          1.          0.        ]\n",
            " [ 0.          0.7310555   0.          0.          1.        ]\n",
            " [ 1.32229473  0.92280776  1.          0.          0.        ]\n",
            " [-0.06150208 -1.37821939  0.          0.          1.        ]]\n"
          ]
        }
      ]
    },
    {
      "cell_type": "code",
      "source": [
        "print(x_test)"
      ],
      "metadata": {
        "colab": {
          "base_uri": "https://localhost:8080/"
        },
        "id": "iu3hIyhbvVsp",
        "outputId": "f5771922-7d2f-46b8-dd4a-af8ea2da6791"
      },
      "execution_count": null,
      "outputs": [
        {
          "output_type": "stream",
          "name": "stdout",
          "text": [
            "[[-1.44529889 -1.18646713  1.          0.          0.        ]\n",
            " [ 0.90715569  1.68981682  0.          0.          1.        ]]\n"
          ]
        }
      ]
    },
    {
      "cell_type": "code",
      "source": [
        "print(y_train)"
      ],
      "metadata": {
        "colab": {
          "base_uri": "https://localhost:8080/"
        },
        "id": "dIxBvCAWvZm0",
        "outputId": "9a61407a-e909-4bb8-ff40-bcc147d9d4b0"
      },
      "execution_count": null,
      "outputs": [
        {
          "output_type": "stream",
          "name": "stdout",
          "text": [
            "[1 0 1 1 0 0 1 0]\n"
          ]
        }
      ]
    },
    {
      "cell_type": "code",
      "source": [
        "print(y_test)"
      ],
      "metadata": {
        "colab": {
          "base_uri": "https://localhost:8080/"
        },
        "id": "m4qtxha0vcKF",
        "outputId": "a16084fe-6a16-45a0-b067-6cde0149b094"
      },
      "execution_count": null,
      "outputs": [
        {
          "output_type": "stream",
          "name": "stdout",
          "text": [
            "[1 1]\n"
          ]
        }
      ]
    }
  ]
}